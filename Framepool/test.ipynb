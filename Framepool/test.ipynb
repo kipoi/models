{
 "cells": [
  {
   "cell_type": "code",
   "execution_count": 1,
   "metadata": {},
   "outputs": [
    {
     "name": "stdout",
     "output_type": "stream",
     "text": [
      "Using downloaded and verified file: /data/ouga04b/ag_gagneur/home/karollus/5UTRModel/Collab/kipoi/Framepool/downloaded/model_files/weights/d1e9656725e730d509a09d5371e51bd2\n"
     ]
    },
    {
     "name": "stderr",
     "output_type": "stream",
     "text": [
      "Using TensorFlow backend.\n"
     ]
    },
    {
     "name": "stdout",
     "output_type": "stream",
     "text": [
      "WARNING:tensorflow:From /data/ouga04b/ag_gagneur/home/karollus/.conda/envs/karollus-env/lib/python3.6/site-packages/tensorflow/python/framework/op_def_library.py:263: colocate_with (from tensorflow.python.framework.ops) is deprecated and will be removed in a future version.\n",
      "Instructions for updating:\n",
      "Colocations handled automatically by placer.\n",
      "WARNING:tensorflow:From /data/ouga04b/ag_gagneur/home/karollus/.conda/envs/karollus-env/lib/python3.6/site-packages/keras/backend/tensorflow_backend.py:3445: calling dropout (from tensorflow.python.ops.nn_ops) with keep_prob is deprecated and will be removed in a future version.\n",
      "Instructions for updating:\n",
      "Please use `rate` instead of `keep_prob`. Rate should be set to `rate = 1 - keep_prob`.\n",
      "WARNING:tensorflow:From /data/ouga04b/ag_gagneur/home/karollus/.conda/envs/karollus-env/lib/python3.6/site-packages/tensorflow/python/ops/math_ops.py:3066: to_int32 (from tensorflow.python.ops.math_ops) is deprecated and will be removed in a future version.\n",
      "Instructions for updating:\n",
      "Use tf.cast instead.\n",
      "WARNING:tensorflow:From /data/ouga04b/ag_gagneur/home/karollus/.conda/envs/karollus-env/lib/python3.6/site-packages/tensorflow/python/ops/math_grad.py:102: div (from tensorflow.python.ops.math_ops) is deprecated and will be removed in a future version.\n",
      "Instructions for updating:\n",
      "Deprecated in favor of operator or tf.math.divide.\n"
     ]
    },
    {
     "name": "stderr",
     "output_type": "stream",
     "text": [
      "0.00B [00:00, ?B/s]"
     ]
    },
    {
     "name": "stdout",
     "output_type": "stream",
     "text": [
      "Downloading https://zenodo.org/record/3584238/files/chr22utrVar1000gen_sorted_nodup.vcf.gz.tbi?download=1 to /data/ouga04b/ag_gagneur/home/karollus/5UTRModel/Collab/kipoi/Framepool/downloaded/example_files/vcf_file_tbi\n"
     ]
    },
    {
     "name": "stderr",
     "output_type": "stream",
     "text": [
      "8.19kB [00:00, 16.1kB/s]                   \n",
      "/data/ouga04b/ag_gagneur/home/karollus/.conda/envs/karollus-env/lib/python3.6/site-packages/kipoiseq/dataloaders/sequence.py:81: FutureWarning: read_table is deprecated, use read_csv instead.\n",
      "  sep='\\t')\n",
      "/data/ouga04b/ag_gagneur/home/karollus/.conda/envs/karollus-env/lib/python3.6/site-packages/kipoiseq/dataloaders/sequence.py:93: FutureWarning: read_table is deprecated, use read_csv instead.\n",
      "  sep='\\t')\n",
      "100%|██████████| 36/36 [00:13<00:00,  3.34it/s]\n"
     ]
    },
    {
     "name": "stdout",
     "output_type": "stream",
     "text": [
      "Assertions passed, output matches expectation\n"
     ]
    }
   ],
   "source": [
    "import kipoi\n",
    "import os\n",
    "import hashlib\n",
    "import urllib.request\n",
    "import pickle\n",
    "import numpy as np\n",
    "\n",
    "# Source model directly from directory\n",
    "model = kipoi.get_model(\"../Framepool\", source=\"dir\")\n",
    "\n",
    "# get predictions for example\n",
    "pred = model.pipeline.predict_example()\n",
    "\n",
    "# download expected outcome, if necessary\n",
    "if not os.path.exists('test_expect.pkl'):\n",
    "    urllib.request.urlretrieve(\"https://zenodo.org/record/3584925/files/test_expect.pkl?download=1\", 'test_expect.pkl')\n",
    "assert hashlib.md5(open('test_expect.pkl', 'rb').read()).hexdigest() == \"bb68750a74fa43235231f2c990c93a94\", \"expected output incorrectly downloaded\"\n",
    "\n",
    "# Load pickle\n",
    "with open(\"test_expect.pkl\", 'rb') as handle:\n",
    "    pred_expect = pickle.load(handle)\n",
    "\n",
    "# Test equivalency\n",
    "for key in pred_expect:\n",
    "    assert key in pred.keys(), \"test failed, predictions do not match expectation\"\n",
    "    assert np.max(np.abs(pred[key] - pred_expect[key])) < 0.00001, \"test failed, predictions do not match expectation\"\n",
    "print(\"Assertions passed, output matches expectation\")"
   ]
  }
 ],
 "metadata": {
  "kernelspec": {
   "display_name": "Python 3",
   "language": "python",
   "name": "python3"
  },
  "language_info": {
   "codemirror_mode": {
    "name": "ipython",
    "version": 3
   },
   "file_extension": ".py",
   "mimetype": "text/x-python",
   "name": "python",
   "nbconvert_exporter": "python",
   "pygments_lexer": "ipython3",
   "version": "3.7.4"
  }
 },
 "nbformat": 4,
 "nbformat_minor": 4
}

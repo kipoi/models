{
 "cells": [
  {
   "cell_type": "code",
   "execution_count": null,
   "metadata": {},
   "outputs": [],
   "source": [
    "# download files\n",
    "!mkdir -p downloads\n",
    "!cd downloads\n",
    "!wget https://github.com/FunctionLab/ExPecto/blob/584c48c85705ec1690a0139155ac62abb7333bd4/example/example.vcf.shift_0.diff.h5?raw=true -O test.h5\n",
    "!ftp://ftp.ensembl.org/pub/grch37/current/fasta/homo_sapiens/dna/Homo_sapiens.GRCh37.dna.chromosome.1.fa.gz\n",
    "!gunzip Homo_sapiens.GRCh37.dna.chromosome.1.fa.gz\n",
    "!cd .."
   ]
  },
  {
   "cell_type": "markdown",
   "metadata": {},
   "source": [
    "The first 10 entries in the h5 file are predictions for the forward direction and the last 10 are for reverse complement."
   ]
  },
  {
   "cell_type": "code",
   "execution_count": 209,
   "metadata": {},
   "outputs": [],
   "source": [
    "# get sequences\n",
    "import kipoiseq\n",
    "from kipoiseq.extractors import VariantSeqExtractor\n",
    "from cyvcf2 import VCF\n",
    "import pybedtools\n",
    "from kipoiseq.transforms.functional import one_hot\n",
    "\n",
    "ex = VariantSeqExtractor('downloads/Homo_sapiens.GRCh37.dna.chromosome.1.fa')\n",
    "vcf = VCF('test/example.vcf')\n",
    "refs, alts = [], []\n",
    "for v in vcf:\n",
    "    interval = pybedtools.create_interval_from_list([v.CHROM, v.POS - 1000, v.POS + 1000])\n",
    "    alt = ex.extract(interval, [v], anchor=0)\n",
    "    v.ALT = v.REF\n",
    "    ref = ex.extract(interval, [v], anchor=0)\n",
    "    \n",
    "    refs.append(ref)\n",
    "    alts.append(alt)\n",
    "    \n",
    "vcf.close()\n",
    "ex.close()\n",
    "\n",
    "refs_onehot = np.stack([one_hot(s, alphabet=['A', 'G', 'C', 'T'], neutral_value=0).T[..., np.newaxis] for s in refs])\n",
    "refs_onehot = np.concatenate([refs_onehot, refs_onehot[:, ::-1, ::-1]])\n",
    "alts_onehot = np.stack([one_hot(s, alphabet=['A', 'G', 'C', 'T'], neutral_value=0).T[..., np.newaxis] for s in alts])\n",
    "alts_onehot = np.concatenate([alts_onehot, alts_onehot[:, ::-1, ::-1]])\n",
    "\n",
    "np.save('test/refs_onehot.npy', refs_onehot.astype(np.float32))\n",
    "np.save('test/alts_onehot.npy', alts_onehot.astype(np.float32))"
   ]
  },
  {
   "cell_type": "code",
   "execution_count": 212,
   "metadata": {},
   "outputs": [],
   "source": [
    "# validate predictions\n",
    "import h5py\n",
    "\n",
    "# expect\n",
    "f = h5py.File('downloads/test.h5')\n",
    "preds_expect = f.f['pred'][:]\n",
    "\n",
    "# seqs\n",
    "refs = np.load(\"test/refs_onehot.npy\"); alts = np.load(\"test/alts_onehot.npy\")\n",
    "\n",
    "# preds\n",
    "m = kipoi.get_model(\"DeepSEA/beluga\")\n",
    "pred_refs = m.predict_on_batch(refs); pred_alts = m.predict_on_batch(alts)\n",
    "\n",
    "# test\n",
    "assert np.allclose((pred_alts-pred_refs), preds_expect, atol=1e-6)\n",
    "np.abs((pred_alts-pred_refs)- preds_expect).max()"
   ]
  },
  {
   "cell_type": "code",
   "execution_count": null,
   "metadata": {},
   "outputs": [],
   "source": []
  }
 ],
 "metadata": {
  "kernelspec": {
   "display_name": "Python 3",
   "language": "python",
   "name": "python3"
  },
  "language_info": {
   "codemirror_mode": {
    "name": "ipython",
    "version": 3
   },
   "file_extension": ".py",
   "mimetype": "text/x-python",
   "name": "python",
   "nbconvert_exporter": "python",
   "pygments_lexer": "ipython3",
   "version": "3.7.3"
  }
 },
 "nbformat": 4,
 "nbformat_minor": 2
}

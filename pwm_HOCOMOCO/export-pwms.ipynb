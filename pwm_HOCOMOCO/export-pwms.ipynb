{
 "cells": [
  {
   "cell_type": "markdown",
   "metadata": {},
   "source": [
    "## Export pwm's to Kipoi\n",
    "\n",
    "I'll use functionality from concise - https://i12g-gagneurweb.in.tum.de/public/docs/concise/tutorials/PWM_initialization/"
   ]
  },
  {
   "cell_type": "markdown",
   "metadata": {},
   "source": [
    "## Folder structure\n",
    "\n",
    "- `tf-binding/<human>/pwm/HOCOMOCO/<TF>`"
   ]
  },
  {
   "cell_type": "markdown",
   "metadata": {},
   "source": [
    "## Databases\n",
    "\n",
    "- HOCOMOCO PWMs\n",
    "- ENCODE PWMs"
   ]
  },
  {
   "cell_type": "code",
   "execution_count": 47,
   "metadata": {},
   "outputs": [
    {
     "name": "stdout",
     "output_type": "stream",
     "text": [
      "time: 1.77 ms\n"
     ]
    }
   ],
   "source": [
    "import os"
   ]
  },
  {
   "cell_type": "code",
   "execution_count": 1,
   "metadata": {},
   "outputs": [
    {
     "name": "stderr",
     "output_type": "stream",
     "text": [
      "/opt/modules/i12g/anaconda/3-4.1.1/lib/python3.5/site-packages/h5py/__init__.py:36: FutureWarning: Conversion of the second argument of issubdtype from `float` to `np.floating` is deprecated. In future, it will be treated as `np.float64 == np.dtype(float).type`.\n",
      "  from ._conv import register_converters as _register_converters\n",
      "Using TensorFlow backend.\n"
     ]
    },
    {
     "data": {
      "text/html": [
       "<div>\n",
       "<style scoped>\n",
       "    .dataframe tbody tr th:only-of-type {\n",
       "        vertical-align: middle;\n",
       "    }\n",
       "\n",
       "    .dataframe tbody tr th {\n",
       "        vertical-align: top;\n",
       "    }\n",
       "\n",
       "    .dataframe thead th {\n",
       "        text-align: right;\n",
       "    }\n",
       "</style>\n",
       "<table border=\"1\" class=\"dataframe\">\n",
       "  <thead>\n",
       "    <tr style=\"text-align: right;\">\n",
       "      <th></th>\n",
       "      <th>PWM_id</th>\n",
       "      <th>info1</th>\n",
       "      <th>info2</th>\n",
       "      <th>consensus</th>\n",
       "    </tr>\n",
       "  </thead>\n",
       "  <tbody>\n",
       "    <tr>\n",
       "      <th>0</th>\n",
       "      <td>AFP_1</td>\n",
       "      <td>AFP1_transfac_M00616</td>\n",
       "      <td>None</td>\n",
       "      <td>ATTAACTACAC</td>\n",
       "    </tr>\n",
       "    <tr>\n",
       "      <th>1</th>\n",
       "      <td>AHR::ARNT::HIF1A_1</td>\n",
       "      <td>AhR,-Arnt,-HIF-1_tran...</td>\n",
       "      <td>None</td>\n",
       "      <td>TGCGTGCGG</td>\n",
       "    </tr>\n",
       "    <tr>\n",
       "      <th>2</th>\n",
       "      <td>AHR::ARNT_1</td>\n",
       "      <td>AhR:Arnt_transfac_M00235</td>\n",
       "      <td>None</td>\n",
       "      <td>TAAGGGTTGCGTGCCC</td>\n",
       "    </tr>\n",
       "    <tr>\n",
       "      <th>...</th>\n",
       "      <td>...</td>\n",
       "      <td>...</td>\n",
       "      <td>...</td>\n",
       "      <td>...</td>\n",
       "    </tr>\n",
       "    <tr>\n",
       "      <th>2064</th>\n",
       "      <td>ZSCAN4_3</td>\n",
       "      <td>ZSCAN4_jolma_full_M54</td>\n",
       "      <td>None</td>\n",
       "      <td>TGCACACACTGAAAA</td>\n",
       "    </tr>\n",
       "    <tr>\n",
       "      <th>2065</th>\n",
       "      <td>fake_AACGSSAA</td>\n",
       "      <td>None</td>\n",
       "      <td>None</td>\n",
       "      <td>AACGCCAA</td>\n",
       "    </tr>\n",
       "    <tr>\n",
       "      <th>2066</th>\n",
       "      <td>fake_AAGCSSAA</td>\n",
       "      <td>None</td>\n",
       "      <td>None</td>\n",
       "      <td>AAGCCCAA</td>\n",
       "    </tr>\n",
       "  </tbody>\n",
       "</table>\n",
       "<p>2067 rows × 4 columns</p>\n",
       "</div>"
      ],
      "text/plain": [
       "                  PWM_id                     info1 info2         consensus\n",
       "0                  AFP_1      AFP1_transfac_M00616  None       ATTAACTACAC\n",
       "1     AHR::ARNT::HIF1A_1  AhR,-Arnt,-HIF-1_tran...  None         TGCGTGCGG\n",
       "2            AHR::ARNT_1  AhR:Arnt_transfac_M00235  None  TAAGGGTTGCGTGCCC\n",
       "...                  ...                       ...   ...               ...\n",
       "2064            ZSCAN4_3     ZSCAN4_jolma_full_M54  None   TGCACACACTGAAAA\n",
       "2065       fake_AACGSSAA                      None  None          AACGCCAA\n",
       "2066       fake_AAGCSSAA                      None  None          AAGCCCAA\n",
       "\n",
       "[2067 rows x 4 columns]"
      ]
     },
     "execution_count": 1,
     "metadata": {},
     "output_type": "execute_result"
    },
    {
     "name": "stdout",
     "output_type": "stream",
     "text": [
      "time: 4.44 s\n"
     ]
    }
   ],
   "source": [
    "from concise.data import encode\n",
    "\n",
    "dfe = encode.get_metadata()\n",
    "dfe"
   ]
  },
  {
   "cell_type": "code",
   "execution_count": 2,
   "metadata": {},
   "outputs": [
    {
     "data": {
      "text/html": [
       "<div>\n",
       "<style scoped>\n",
       "    .dataframe tbody tr th:only-of-type {\n",
       "        vertical-align: middle;\n",
       "    }\n",
       "\n",
       "    .dataframe tbody tr th {\n",
       "        vertical-align: top;\n",
       "    }\n",
       "\n",
       "    .dataframe thead th {\n",
       "        text-align: right;\n",
       "    }\n",
       "</style>\n",
       "<table border=\"1\" class=\"dataframe\">\n",
       "  <thead>\n",
       "    <tr style=\"text-align: right;\">\n",
       "      <th></th>\n",
       "      <th>PWM_id</th>\n",
       "      <th>TF</th>\n",
       "      <th>Organism</th>\n",
       "      <th>DB</th>\n",
       "      <th>info</th>\n",
       "      <th>consensus</th>\n",
       "    </tr>\n",
       "  </thead>\n",
       "  <tbody>\n",
       "    <tr>\n",
       "      <th>0</th>\n",
       "      <td>AHR_HUMAN.H10MO.B</td>\n",
       "      <td>AHR</td>\n",
       "      <td>HUMAN</td>\n",
       "      <td>H10MO</td>\n",
       "      <td>B</td>\n",
       "      <td>GTTGCGTGC</td>\n",
       "    </tr>\n",
       "    <tr>\n",
       "      <th>1</th>\n",
       "      <td>AIRE_HUMAN.H10MO.C</td>\n",
       "      <td>AIRE</td>\n",
       "      <td>HUMAN</td>\n",
       "      <td>H10MO</td>\n",
       "      <td>C</td>\n",
       "      <td>ATTGGTTATATTGGTTAA</td>\n",
       "    </tr>\n",
       "    <tr>\n",
       "      <th>2</th>\n",
       "      <td>ALX1_HUMAN.H10MO.B</td>\n",
       "      <td>ALX1</td>\n",
       "      <td>HUMAN</td>\n",
       "      <td>H10MO</td>\n",
       "      <td>B</td>\n",
       "      <td>ATAATTGAATTA</td>\n",
       "    </tr>\n",
       "    <tr>\n",
       "      <th>...</th>\n",
       "      <td>...</td>\n",
       "      <td>...</td>\n",
       "      <td>...</td>\n",
       "      <td>...</td>\n",
       "      <td>...</td>\n",
       "      <td>...</td>\n",
       "    </tr>\n",
       "    <tr>\n",
       "      <th>637</th>\n",
       "      <td>ZN784_HUMAN.H10MO.D</td>\n",
       "      <td>ZN784</td>\n",
       "      <td>HUMAN</td>\n",
       "      <td>H10MO</td>\n",
       "      <td>D</td>\n",
       "      <td>GAGGTAGGTAC</td>\n",
       "    </tr>\n",
       "    <tr>\n",
       "      <th>638</th>\n",
       "      <td>ZSC16_HUMAN.H10MO.D</td>\n",
       "      <td>ZSC16</td>\n",
       "      <td>HUMAN</td>\n",
       "      <td>H10MO</td>\n",
       "      <td>D</td>\n",
       "      <td>GAGGTGTTCTGTTAACACTA</td>\n",
       "    </tr>\n",
       "    <tr>\n",
       "      <th>639</th>\n",
       "      <td>ZSCA4_HUMAN.H10MO.D</td>\n",
       "      <td>ZSCA4</td>\n",
       "      <td>HUMAN</td>\n",
       "      <td>H10MO</td>\n",
       "      <td>D</td>\n",
       "      <td>AGTGTGTGCACT</td>\n",
       "    </tr>\n",
       "  </tbody>\n",
       "</table>\n",
       "<p>640 rows × 6 columns</p>\n",
       "</div>"
      ],
      "text/plain": [
       "                  PWM_id     TF Organism     DB info             consensus\n",
       "0      AHR_HUMAN.H10MO.B    AHR    HUMAN  H10MO    B             GTTGCGTGC\n",
       "1     AIRE_HUMAN.H10MO.C   AIRE    HUMAN  H10MO    C    ATTGGTTATATTGGTTAA\n",
       "2     ALX1_HUMAN.H10MO.B   ALX1    HUMAN  H10MO    B          ATAATTGAATTA\n",
       "..                   ...    ...      ...    ...  ...                   ...\n",
       "637  ZN784_HUMAN.H10MO.D  ZN784    HUMAN  H10MO    D           GAGGTAGGTAC\n",
       "638  ZSC16_HUMAN.H10MO.D  ZSC16    HUMAN  H10MO    D  GAGGTGTTCTGTTAACACTA\n",
       "639  ZSCA4_HUMAN.H10MO.D  ZSCA4    HUMAN  H10MO    D          AGTGTGTGCACT\n",
       "\n",
       "[640 rows x 6 columns]"
      ]
     },
     "execution_count": 2,
     "metadata": {},
     "output_type": "execute_result"
    },
    {
     "name": "stdout",
     "output_type": "stream",
     "text": [
      "time: 400 ms\n"
     ]
    }
   ],
   "source": [
    "# TF PWM's\n",
    "from concise.data import hocomoco\n",
    "\n",
    "dfh = hocomoco.get_metadata()\n",
    "dfh"
   ]
  },
  {
   "cell_type": "markdown",
   "metadata": {},
   "source": [
    "> We additionally introduced the secondary (mostly single-box) models with the special S quality to distinguish them in the collection (thus allowing two models for the same TF). The S models were included for 40 (31) human (mouse) TFs when 2 distinct cases were curated in HOCOMOCO v9, or when a new primary model resembled a notably longer or different pattern (e.g. double-box)."
   ]
  },
  {
   "cell_type": "markdown",
   "metadata": {},
   "source": [
    "- I'll remove the S quality"
   ]
  },
  {
   "cell_type": "code",
   "execution_count": 130,
   "metadata": {},
   "outputs": [
    {
     "name": "stdout",
     "output_type": "stream",
     "text": [
      "time: 213 ms\n"
     ]
    }
   ],
   "source": [
    "pwm = hocomoco.get_pwm_list([\"ZSCA4_HUMAN.H10MO.D\"], pseudocountProb=0.001)[0]"
   ]
  },
  {
   "cell_type": "code",
   "execution_count": 131,
   "metadata": {},
   "outputs": [
    {
     "data": {
      "image/png": "[encoded data removed]",
      "text/plain": [
       "<matplotlib.figure.Figure at 0x7f315e5318d0>"
      ]
     },
     "metadata": {},
     "output_type": "display_data"
    },
    {
     "name": "stdout",
     "output_type": "stream",
     "text": [
      "time: 425 ms\n"
     ]
    }
   ],
   "source": [
    "pwm.plotPWM();"
   ]
  },
  {
   "cell_type": "code",
   "execution_count": 8,
   "metadata": {},
   "outputs": [
    {
     "data": {
      "text/plain": [
       "1"
      ]
     },
     "execution_count": 8,
     "metadata": {},
     "output_type": "execute_result"
    },
    {
     "name": "stdout",
     "output_type": "stream",
     "text": [
      "time: 6.81 ms\n"
     ]
    }
   ],
   "source": [
    "len(dfh.Organism.unique())"
   ]
  },
  {
   "cell_type": "code",
   "execution_count": 24,
   "metadata": {},
   "outputs": [
    {
     "data": {
      "text/plain": [
       "array(['H10MO'], dtype=object)"
      ]
     },
     "execution_count": 24,
     "metadata": {},
     "output_type": "execute_result"
    },
    {
     "name": "stdout",
     "output_type": "stream",
     "text": [
      "time: 7.83 ms\n"
     ]
    }
   ],
   "source": [
    "dfh.DB.unique()"
   ]
  },
  {
   "cell_type": "code",
   "execution_count": 9,
   "metadata": {},
   "outputs": [
    {
     "data": {
      "text/plain": [
       "array(['HUMAN'], dtype=object)"
      ]
     },
     "execution_count": 9,
     "metadata": {},
     "output_type": "execute_result"
    },
    {
     "name": "stdout",
     "output_type": "stream",
     "text": [
      "time: 7.03 ms\n"
     ]
    }
   ],
   "source": [
    "dfh.Organism.unique()"
   ]
  },
  {
   "cell_type": "code",
   "execution_count": 17,
   "metadata": {},
   "outputs": [
    {
     "name": "stdout",
     "output_type": "stream",
     "text": [
      "time: 6.41 ms\n"
     ]
    }
   ],
   "source": [
    "grb = dfh.groupby([\"Organism\", \"TF\"]).consensus.count()"
   ]
  },
  {
   "cell_type": "code",
   "execution_count": 28,
   "metadata": {},
   "outputs": [
    {
     "data": {
      "text/plain": [
       "array(['B', 'C', 'D', 'A', 'S'], dtype=object)"
      ]
     },
     "execution_count": 28,
     "metadata": {},
     "output_type": "execute_result"
    },
    {
     "name": "stdout",
     "output_type": "stream",
     "text": [
      "time: 6.53 ms\n"
     ]
    }
   ],
   "source": [
    "dfh['info'].unique()"
   ]
  },
  {
   "cell_type": "code",
   "execution_count": 30,
   "metadata": {},
   "outputs": [
    {
     "name": "stdout",
     "output_type": "stream",
     "text": [
      "time: 4.77 ms\n"
     ]
    }
   ],
   "source": [
    "dfh = dfh[dfh['info'] != \"S\"]"
   ]
  },
  {
   "cell_type": "code",
   "execution_count": 35,
   "metadata": {},
   "outputs": [
    {
     "name": "stdout",
     "output_type": "stream",
     "text": [
      "time: 6.78 ms\n"
     ]
    }
   ],
   "source": [
    "grb = dfh.groupby([\"Organism\", \"TF\"]).consensus.count()"
   ]
  },
  {
   "cell_type": "code",
   "execution_count": 40,
   "metadata": {},
   "outputs": [
    {
     "name": "stdout",
     "output_type": "stream",
     "text": [
      "time: 3.02 ms\n"
     ]
    }
   ],
   "source": [
    "# all PWM's are unique\n",
    "assert np.mean(grb==1) == 1"
   ]
  },
  {
   "cell_type": "code",
   "execution_count": null,
   "metadata": {},
   "outputs": [],
   "source": [
    "tf-binding/<human>/pwm/HOCOMOCO"
   ]
  },
  {
   "cell_type": "code",
   "execution_count": 48,
   "metadata": {},
   "outputs": [
    {
     "name": "stdout",
     "output_type": "stream",
     "text": [
      "time: 3.26 ms\n"
     ]
    }
   ],
   "source": [
    "out_path = os.path.expanduser(\"~/.kipoi/models/tf-binding/human/pwm/HOCOMOCO\")"
   ]
  },
  {
   "cell_type": "code",
   "execution_count": 50,
   "metadata": {},
   "outputs": [
    {
     "name": "stdout",
     "output_type": "stream",
     "text": [
      "time: 15.2 ms\n"
     ]
    }
   ],
   "source": [
    "os.makedirs(out_path, exist_ok=True)"
   ]
  },
  {
   "cell_type": "code",
   "execution_count": 178,
   "metadata": {},
   "outputs": [
    {
     "name": "stdout",
     "output_type": "stream",
     "text": [
      "time: 27 ms\n"
     ]
    }
   ],
   "source": [
    "def write_model(row, root_path):\n",
    "    \"\"\"For each pwm, write out the model\n",
    "    \"\"\"\n",
    "    TF = row.TF\n",
    "    PWM_id = row.PWM_id\n",
    "    quality = row['info']\n",
    "    \n",
    "    model_dir = os.path.join(root_path, TF)\n",
    "    os.makedirs(os.path.join(root_path, TF, \"model_files\"), exist_ok=True)\n",
    "    \n",
    "    pwm = hocomoco.get_pwm_list([PWM_id], pseudocountProb=0.001)[0]\n",
    "    \n",
    "    model = get_model(pwm)\n",
    "    \n",
    "    model.save(os.path.join(model_dir, \"model_files/model.h5\"))\n",
    "    \n",
    "    symlink_files = [\"model.yaml\", \n",
    "                     \"example_files\", \n",
    "                     \"dataloader.yaml\", \n",
    "                     \"dataloader.py\"]\n",
    "    for f in symlink_files:\n",
    "        os.symlink(os.path.join(root_path, \"template\", f),\n",
    "                   os.path.join(model_dir, f))"
   ]
  },
  {
   "cell_type": "code",
   "execution_count": 179,
   "metadata": {},
   "outputs": [
    {
     "name": "stdout",
     "output_type": "stream",
     "text": [
      "time: 13.2 ms\n"
     ]
    }
   ],
   "source": [
    "import keras.layers as kl\n",
    "from keras.models import Sequential\n",
    "\n",
    "def get_model(pwm):\n",
    "    \"\"\"Builds a keras models with a single conv filter\n",
    "    initialized to a PSSM matrix\n",
    "    \"\"\"\n",
    "    m = Sequential([\n",
    "        kl.Conv1D(filters=1, \n",
    "                  kernel_size=len(pwm.get_pssm()), \n",
    "                  activation=\"relu\",\n",
    "                  kernel_initializer=\"zeros\",\n",
    "                  bias_initializer=\"zeros\",\n",
    "                  input_shape=(None, 4),\n",
    "                  name=\"conv1\"),\n",
    "        kl.GlobalMaxPooling1D()\n",
    "    ])\n",
    "    m.layers[0].set_weights([pwm.get_pssm()[:,:,np.newaxis], l.get_weights()[1]])\n",
    "    return m"
   ]
  },
  {
   "cell_type": "code",
   "execution_count": 165,
   "metadata": {},
   "outputs": [
    {
     "name": "stdout",
     "output_type": "stream",
     "text": [
      "time: 1.71 ms\n"
     ]
    }
   ],
   "source": [
    "from concise.utils.plot import seqlogo_fig"
   ]
  },
  {
   "cell_type": "code",
   "execution_count": 154,
   "metadata": {},
   "outputs": [
    {
     "name": "stdout",
     "output_type": "stream",
     "text": [
      "time: 55.8 ms\n"
     ]
    }
   ],
   "source": [
    "m = get_model(pwm)"
   ]
  },
  {
   "cell_type": "code",
   "execution_count": 157,
   "metadata": {},
   "outputs": [
    {
     "data": {
      "image/png": "[encoded data removed]",
      "text/plain": [
       "<matplotlib.figure.Figure at 0x7f315e4cae10>"
      ]
     },
     "metadata": {},
     "output_type": "display_data"
    },
    {
     "name": "stdout",
     "output_type": "stream",
     "text": [
      "time: 419 ms\n"
     ]
    }
   ],
   "source": [
    "pwm.plotPWM();"
   ]
  },
  {
   "cell_type": "code",
   "execution_count": 158,
   "metadata": {},
   "outputs": [
    {
     "data": {
      "image/png": "[encoded data removed]",
      "text/plain": [
       "<matplotlib.figure.Figure at 0x7f316434c160>"
      ]
     },
     "metadata": {},
     "output_type": "display_data"
    },
    {
     "name": "stdout",
     "output_type": "stream",
     "text": [
      "time: 405 ms\n"
     ]
    }
   ],
   "source": [
    "pwm.plotPSSM();"
   ]
  },
  {
   "cell_type": "code",
   "execution_count": 159,
   "metadata": {},
   "outputs": [
    {
     "data": {
      "image/png": "[encoded data removed]",
      "text/plain": [
       "<matplotlib.figure.Figure at 0x7f315e535c18>"
      ]
     },
     "metadata": {},
     "output_type": "display_data"
    },
    {
     "name": "stdout",
     "output_type": "stream",
     "text": [
      "time: 428 ms\n"
     ]
    }
   ],
   "source": [
    "# Conv filters\n",
    "seqlogo_fig(m.get_weights()[0][:,:,0], figsize=(10, 2));"
   ]
  },
  {
   "cell_type": "code",
   "execution_count": null,
   "metadata": {},
   "outputs": [],
   "source": [
    "PWM.plotPSSM()"
   ]
  },
  {
   "cell_type": "code",
   "execution_count": 34,
   "metadata": {},
   "outputs": [
    {
     "data": {
      "text/html": [
       "<div>\n",
       "<style scoped>\n",
       "    .dataframe tbody tr th:only-of-type {\n",
       "        vertical-align: middle;\n",
       "    }\n",
       "\n",
       "    .dataframe tbody tr th {\n",
       "        vertical-align: top;\n",
       "    }\n",
       "\n",
       "    .dataframe thead th {\n",
       "        text-align: right;\n",
       "    }\n",
       "</style>\n",
       "<table border=\"1\" class=\"dataframe\">\n",
       "  <thead>\n",
       "    <tr style=\"text-align: right;\">\n",
       "      <th></th>\n",
       "      <th>PWM_id</th>\n",
       "      <th>TF</th>\n",
       "      <th>Organism</th>\n",
       "      <th>DB</th>\n",
       "      <th>info</th>\n",
       "      <th>consensus</th>\n",
       "    </tr>\n",
       "  </thead>\n",
       "  <tbody>\n",
       "    <tr>\n",
       "      <th>0</th>\n",
       "      <td>AHR_HUMAN.H10MO.B</td>\n",
       "      <td>AHR</td>\n",
       "      <td>HUMAN</td>\n",
       "      <td>H10MO</td>\n",
       "      <td>B</td>\n",
       "      <td>GTTGCGTGC</td>\n",
       "    </tr>\n",
       "    <tr>\n",
       "      <th>1</th>\n",
       "      <td>AIRE_HUMAN.H10MO.C</td>\n",
       "      <td>AIRE</td>\n",
       "      <td>HUMAN</td>\n",
       "      <td>H10MO</td>\n",
       "      <td>C</td>\n",
       "      <td>ATTGGTTATATTGGTTAA</td>\n",
       "    </tr>\n",
       "    <tr>\n",
       "      <th>2</th>\n",
       "      <td>ALX1_HUMAN.H10MO.B</td>\n",
       "      <td>ALX1</td>\n",
       "      <td>HUMAN</td>\n",
       "      <td>H10MO</td>\n",
       "      <td>B</td>\n",
       "      <td>ATAATTGAATTA</td>\n",
       "    </tr>\n",
       "    <tr>\n",
       "      <th>3</th>\n",
       "      <td>ALX3_HUMAN.H10MO.D</td>\n",
       "      <td>ALX3</td>\n",
       "      <td>HUMAN</td>\n",
       "      <td>H10MO</td>\n",
       "      <td>D</td>\n",
       "      <td>TAATTTAATTA</td>\n",
       "    </tr>\n",
       "    <tr>\n",
       "      <th>4</th>\n",
       "      <td>ALX4_HUMAN.H10MO.D</td>\n",
       "      <td>ALX4</td>\n",
       "      <td>HUMAN</td>\n",
       "      <td>H10MO</td>\n",
       "      <td>D</td>\n",
       "      <td>TAATTTAATTAA</td>\n",
       "    </tr>\n",
       "  </tbody>\n",
       "</table>\n",
       "</div>"
      ],
      "text/plain": [
       "               PWM_id    TF Organism     DB info           consensus\n",
       "0   AHR_HUMAN.H10MO.B   AHR    HUMAN  H10MO    B           GTTGCGTGC\n",
       "1  AIRE_HUMAN.H10MO.C  AIRE    HUMAN  H10MO    C  ATTGGTTATATTGGTTAA\n",
       "2  ALX1_HUMAN.H10MO.B  ALX1    HUMAN  H10MO    B        ATAATTGAATTA\n",
       "3  ALX3_HUMAN.H10MO.D  ALX3    HUMAN  H10MO    D         TAATTTAATTA\n",
       "4  ALX4_HUMAN.H10MO.D  ALX4    HUMAN  H10MO    D        TAATTTAATTAA"
      ]
     },
     "execution_count": 34,
     "metadata": {},
     "output_type": "execute_result"
    },
    {
     "name": "stdout",
     "output_type": "stream",
     "text": [
      "time: 18.4 ms\n"
     ]
    }
   ],
   "source": [
    "dfh.head"
   ]
  },
  {
   "cell_type": "code",
   "execution_count": 176,
   "metadata": {},
   "outputs": [
    {
     "name": "stdout",
     "output_type": "stream",
     "text": [
      "time: 15.3 ms\n"
     ]
    }
   ],
   "source": [
    "from tqdm import tqdm"
   ]
  },
  {
   "cell_type": "code",
   "execution_count": 180,
   "metadata": {},
   "outputs": [
    {
     "name": "stderr",
     "output_type": "stream",
     "text": [
      "100%|██████████| 600/600 [09:04<00:00,  1.10it/s]"
     ]
    },
    {
     "name": "stdout",
     "output_type": "stream",
     "text": [
      "time: 9min 4s\n"
     ]
    },
    {
     "name": "stderr",
     "output_type": "stream",
     "text": [
      "\n"
     ]
    }
   ],
   "source": [
    "for i in tqdm(range(len(dfh))):\n",
    "    write_model(dfh.iloc[i], out_path)"
   ]
  }
 ],
 "metadata": {
  "kernelspec": {
   "display_name": "Python [default]",
   "language": "python",
   "name": "python3"
  },
  "language_info": {
   "codemirror_mode": {
    "name": "ipython",
    "version": 3
   },
   "file_extension": ".py",
   "mimetype": "text/x-python",
   "name": "python",
   "nbconvert_exporter": "python",
   "pygments_lexer": "ipython3",
   "version": "3.5.2"
  }
 },
 "nbformat": 4,
 "nbformat_minor": 2
}

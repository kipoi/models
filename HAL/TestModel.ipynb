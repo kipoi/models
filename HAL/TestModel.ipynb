{
 "cells": [
  {
   "cell_type": "code",
   "execution_count": 16,
   "metadata": {
    "collapsed": false
   },
   "outputs": [
    {
     "name": "stdout",
     "output_type": "stream",
     "text": [
      "The autoreload extension is already loaded. To reload it, use:\n",
      "  %reload_ext autoreload\n"
     ]
    }
   ],
   "source": [
    "%load_ext autoreload\n",
    "%autoreload 2"
   ]
  },
  {
   "cell_type": "code",
   "execution_count": 17,
   "metadata": {
    "collapsed": true,
    "deletable": true,
    "editable": true
   },
   "outputs": [],
   "source": [
    "from dataloader import SplicingKmerDataset"
   ]
  },
  {
   "cell_type": "code",
   "execution_count": 18,
   "metadata": {
    "collapsed": true,
    "deletable": true,
    "editable": true
   },
   "outputs": [],
   "source": [
    "from kipoi.data import DataLoader\n",
    "from kipoi.data_utils import numpy_collate"
   ]
  },
  {
   "cell_type": "code",
   "execution_count": 19,
   "metadata": {
    "collapsed": false
   },
   "outputs": [],
   "source": [
    "from model import HALModel"
   ]
  },
  {
   "cell_type": "code",
   "execution_count": 20,
   "metadata": {
    "collapsed": true,
    "deletable": true,
    "editable": true
   },
   "outputs": [],
   "source": [
    "fasta = \"/s/genomes/human/hg19/ensembl_GRCh37.p13_release75/Homo_sapiens.GRCh37.75.dna.primary_assembly.fa\"\n",
    "GFF = \"/s/genomes/human/hg19/MISO/A5SS.hg19.nochr.selected.gff3\""
   ]
  },
  {
   "cell_type": "code",
   "execution_count": 21,
   "metadata": {
    "collapsed": true,
    "deletable": true,
    "editable": true
   },
   "outputs": [],
   "source": [
    "data = SplicingKmerDataset(GFF, \n",
    "                           fasta,\n",
    "                           MISO_AS=True) #get_A5SS_dt, otherwise return a dicionary with inputs, targets..."
   ]
  },
  {
   "cell_type": "code",
   "execution_count": 22,
   "metadata": {
    "collapsed": false,
    "deletable": true,
    "editable": true
   },
   "outputs": [
    {
     "data": {
      "text/plain": [
       "{'inputs': array([ 'CCGCGCTACTTCGGCCCCAACTTGCTCAACACGGTGAAGCAGAAGCTCTTCACCGAGGTGGAGGGGACCTGCACAGGGAAGTGAGTGTCGAGCTCACCGCACCGCCAGATCGTTCGATGCGCACACGGGGCGCTATACCTGCAACCCCTCCCCAACTCCT',\n",
       "        'GAGATGGGTCATTCATTGACTCCTCAAACATTTTAAAAACCCTTGGTGTGTGCCAGGACCCGTGTTGGGCTCAGAACAAGGTAGAATGGGAACAAGATAGAATGAGGACAGCCCCTGTGGAGCTCACAGTGTAATCATTGTTCCTGTGTCTGCTCTCCCT'],\n",
       "       dtype='<U160'),\n",
       " 'metadata': {'chrom': '11',\n",
       "  'geneName': 'chr11:62529267:62529376|62529656:+@chr11:62530339:62530498:+',\n",
       "  'start': 62529267,\n",
       "  'stop': 62530498,\n",
       "  'strand': '+'}}"
      ]
     },
     "execution_count": 22,
     "metadata": {},
     "output_type": "execute_result"
    }
   ],
   "source": [
    "test = data[2]\n",
    "\n",
    "test"
   ]
  },
  {
   "cell_type": "code",
   "execution_count": 23,
   "metadata": {
    "collapsed": false,
    "deletable": true,
    "editable": true
   },
   "outputs": [],
   "source": [
    "seqs = test['inputs']"
   ]
  },
  {
   "cell_type": "code",
   "execution_count": 24,
   "metadata": {
    "collapsed": false,
    "deletable": true,
    "editable": true
   },
   "outputs": [
    {
     "data": {
      "text/plain": [
       "'GTGAGTGTCGAGCTCACCGCACCGCCAGATCGTTCGATGCGCACACGGGGCGCTATACCTGCAACCCCTCCCCAACTCCT'"
      ]
     },
     "execution_count": 24,
     "metadata": {},
     "output_type": "execute_result"
    }
   ],
   "source": [
    "seqs[0][-80:]"
   ]
  },
  {
   "cell_type": "code",
   "execution_count": 25,
   "metadata": {
    "collapsed": false
   },
   "outputs": [
    {
     "data": {
      "text/plain": [
       "'GTGAGTGTCGAGCTCACCGCACCGCCAGATCGTTCGATGCGCACACGGGGCGCTATACCTGCAACCCCTCCCCAACTCCT'"
      ]
     },
     "execution_count": 25,
     "metadata": {},
     "output_type": "execute_result"
    }
   ],
   "source": [
    "seqs[0][80:]"
   ]
  },
  {
   "cell_type": "markdown",
   "metadata": {},
   "source": [
    "## Prediction"
   ]
  },
  {
   "cell_type": "code",
   "execution_count": 26,
   "metadata": {
    "collapsed": false,
    "deletable": true,
    "editable": true
   },
   "outputs": [],
   "source": [
    "data_generator = DataLoader(data, batch_size=3, collate_fn=numpy_collate, shuffle=True)\n",
    "data_generator = iter(data_generator)"
   ]
  },
  {
   "cell_type": "code",
   "execution_count": 27,
   "metadata": {},
   "outputs": [],
   "source": [
    "data = next(data_generator)"
   ]
  },
  {
   "cell_type": "code",
   "execution_count": 28,
   "metadata": {},
   "outputs": [
    {
     "data": {
      "text/plain": [
       "array([[ 'TTAGCTGTGGAACAAGAATTAGCACAAGAAGAAGAAGAAGAATCAGGACAAGAAGAGCCAAGGGGCCCAGATGGAGACTGGTTAAACACTTATTTCCTTTGCTGTTGGGAGCTCAAAGATGATGTGTTTACACGGCTTACAGTGAAACCTTTGTAGGCTC',\n",
       "        'GGAGACTGGTTAAACACTTATTTCCTTTGCTGTTGGGAGCTCAAAGATGATGTGTTTACACGGCTTACAGTGAAACCTTTGTAGGCTCATGCTTTATTCCAGAATGATGGAATGCACTGCACCTTCAGGAAGCTGTGCTAGGAAAAGTCTTTCCTTGGTC'],\n",
       "       [ 'TACACTACCTACAAGATCCCGCGTCAGCGGATTATGGATTACTATGAGACCAACAGCCAGTGCTCCAAGCCCGGAATTGTGTAGGTGGTACACACACATCACACTGGGGGGAGAGGGAGCCAGCAGGGCCTCCTGGAGGGAAGCAGGGAGTGGTGGTGGA',\n",
       "        'CTACCTACAAGATCCCGCGTCAGCGGATTATGGATTACTATGAGACCAACAGCCAGTGCTCCAAGCCCGGAATTGTGTAGGTGGTACACACACATCACACTGGGGGGAGAGGGAGCCAGCAGGGCCTCCTGGAGGGAAGCAGGGAGTGGTGGTGGAATGG'],\n",
       "       [ 'CAAGTCCAACACACCAACCCCAAGGAACGACGCCCCAACTCCAGGCACCAGCACGACCCCAGGGCTCAGGTCGATGCCGGGTAAACCTCCGGGCATGGACCCGATAGGTATAATGGGTAGGCACCATGGGCTGGGTTAATCTGATTGGGGGGAGGGGGTC',\n",
       "        'AACTCCAGGCACCAGCACGACCCCAGGGCTCAGGTCGATGCCGGGTAAACCTCCGGGCATGGACCCGATAGGTATAATGGGTAGGCACCATGGGCTGGGTTAATCTGATTGGGGGGAGGGGGTCTGCTCTTGGCCAGGGCAGGGGTGACACACACGCATG']],\n",
       "      dtype='<U160')"
      ]
     },
     "execution_count": 28,
     "metadata": {},
     "output_type": "execute_result"
    }
   ],
   "source": [
    "data['inputs']"
   ]
  },
  {
   "cell_type": "code",
   "execution_count": 29,
   "metadata": {
    "collapsed": false,
    "scrolled": true
   },
   "outputs": [],
   "source": [
    "HAL = HALModel()"
   ]
  },
  {
   "cell_type": "code",
   "execution_count": 30,
   "metadata": {
    "collapsed": false
   },
   "outputs": [
    {
     "data": {
      "text/plain": [
       "array([  1.10469418e-03,   8.81532781e-01,   5.08689968e-05])"
      ]
     },
     "execution_count": 30,
     "metadata": {},
     "output_type": "execute_result"
    }
   ],
   "source": [
    "HAL.predict_on_batch(next(data_generator))"
   ]
  },
  {
   "cell_type": "markdown",
   "metadata": {},
   "source": [
    "# With normal ensembl gtf annotation"
   ]
  },
  {
   "cell_type": "code",
   "execution_count": 31,
   "metadata": {},
   "outputs": [],
   "source": [
    "fasta = \"/s/genomes/human/hg19/ensembl_GRCh37.p13_release75/Homo_sapiens.GRCh37.75.dna.primary_assembly.fa\"\n",
    "GFF = \"/s/genomes/human/hg19/ensembl_GRCh37.p13_release75/Homo_sapiens.GRCh37.75.chr22.gtf\""
   ]
  },
  {
   "cell_type": "code",
   "execution_count": 32,
   "metadata": {},
   "outputs": [],
   "source": [
    "data = SplicingKmerDataset(GFF, \n",
    "                           fasta,\n",
    "                           MISO_AS=False)"
   ]
  },
  {
   "cell_type": "code",
   "execution_count": 33,
   "metadata": {},
   "outputs": [
    {
     "data": {
      "text/plain": [
       "{'inputs': 'TAGCCATCAGGCCTGGGGATGGACCTCCCTGGAGCTGGGCATTCAAGAGGATGAGTGCAGCAGAACGCGTATCCAGGGAGGTCTGGTCTGCTGATTTTTCTAGGCATAAAGCAAATTTATTTTTTAAATTAAAATAAAAATGCATGCACTTTCAAATGTA',\n",
       " 'metadata': {'biotype': 'lincRNA',\n",
       "  'geneID': 'ENSG00000233866',\n",
       "  'order': 0,\n",
       "  'ranges': GenomicRanges(chr='22', start=16062237, end=16062396, id='ENSG00000233866', strand='+'),\n",
       "  'transcriptID': 'ENST00000424770'}}"
      ]
     },
     "execution_count": 33,
     "metadata": {},
     "output_type": "execute_result"
    }
   ],
   "source": [
    "data[0]"
   ]
  },
  {
   "cell_type": "code",
   "execution_count": 34,
   "metadata": {},
   "outputs": [],
   "source": [
    "data_generator = DataLoader(data, batch_size=5, collate_fn=numpy_collate, shuffle=False)\n",
    "data_generator = iter(data_generator)"
   ]
  },
  {
   "cell_type": "code",
   "execution_count": 35,
   "metadata": {},
   "outputs": [],
   "source": [
    "data = next(data_generator)"
   ]
  },
  {
   "cell_type": "code",
   "execution_count": 36,
   "metadata": {},
   "outputs": [
    {
     "data": {
      "text/plain": [
       "{'inputs': array([ 'TAGCCATCAGGCCTGGGGATGGACCTCCCTGGAGCTGGGCATTCAAGAGGATGAGTGCAGCAGAACGCGTATCCAGGGAGGTCTGGTCTGCTGATTTTTCTAGGCATAAAGCAAATTTATTTTTTAAATTAAAATAAAAATGCATGCACTTTCAAATGTA',\n",
       "        'GAATGTACAGACTAGCACAGAAGTTGGGCTAATTAAACAAGTATTGCTGAAAATGAGTGCTGTAGATGACATGAGAGCAGGTATGGGGTTGATTGTTAGGGAAGTATAACTTAAAAGTTTATAAAGTTTCACATACTTCTCTTTATATTCTATAGGTAAT',\n",
       "        'TGGCAACTGTTTTATAGTCACATCATCGAAGTCCAAAGGAAAATGTTTTCAGCATTGTGTGAAATATGATTTTCAACCACGTAAGGTAGGTAAAAGTAAATATTTTTATAACTCACTTGTTATGACAGAATTCTTAACTATCCTTTTATGACCTCTGTAG',\n",
       "        'ATACTCAACTCTGCCTGGAATCATCACCAAAAGAGGATGCATCAATTTTTGTGCATTCCCAACATGCTCTAATGCTTCCGGTGGGTGAATCATGGCTTTGTTTTCATGTTCTTGTCAGAATTTAACAATATTTTTATTTTATATATCAAACATTGCTCAT',\n",
       "        'GCAGCGGCGTGGTCAGAGCGAGCTTCGGAGAAGCAGTGGTGGGTTCCATGTGATGGTGGAGTAGGAGGCAGGTCTCCGCGGTAAGTGGCGGGGGCGTGGACCCCACCGGGAACCCTCCCGGCTCCTTCCCTGCCTCTCCCTGTTTTCGTGCTTTCACTTC'],\n",
       "       dtype='<U160'),\n",
       " 'metadata': {'biotype': array(['lincRNA', 'pseudogene', 'pseudogene', 'pseudogene',\n",
       "         'processed_transcript'],\n",
       "        dtype='<U20'),\n",
       "  'geneID': array(['ENSG00000233866', 'ENSG00000223875', 'ENSG00000223875',\n",
       "         'ENSG00000223875', 'ENSG00000206195'],\n",
       "        dtype='<U15'),\n",
       "  'order': array([0, 0, 1, 2, 0]),\n",
       "  'ranges': {'chr': array(['22', '22', '22', '22', '22'],\n",
       "         dtype='<U2'),\n",
       "   'end': array([16062396, 16124821, 16118871, 16101355, 16192985]),\n",
       "   'id': array(['ENSG00000233866', 'ENSG00000223875', 'ENSG00000223875',\n",
       "          'ENSG00000223875', 'ENSG00000206195'],\n",
       "         dtype='<U15'),\n",
       "   'start': array([16062237, 16124662, 16118712, 16101196, 16192826]),\n",
       "   'strand': array(['+', '-', '-', '-', '-'],\n",
       "         dtype='<U1')},\n",
       "  'transcriptID': array(['ENST00000424770', 'ENST00000420638', 'ENST00000420638',\n",
       "         'ENST00000420638', 'ENST00000447898'],\n",
       "        dtype='<U15')}}"
      ]
     },
     "execution_count": 36,
     "metadata": {},
     "output_type": "execute_result"
    }
   ],
   "source": [
    "data"
   ]
  },
  {
   "cell_type": "code",
   "execution_count": 37,
   "metadata": {},
   "outputs": [
    {
     "data": {
      "text/plain": [
       "array([ 'TAGCCATCAGGCCTGGGGATGGACCTCCCTGGAGCTGGGCATTCAAGAGGATGAGTGCAGCAGAACGCGTATCCAGGGAGGTCTGGTCTGCTGATTTTTCTAGGCATAAAGCAAATTTATTTTTTAAATTAAAATAAAAATGCATGCACTTTCAAATGTA',\n",
       "       'GAATGTACAGACTAGCACAGAAGTTGGGCTAATTAAACAAGTATTGCTGAAAATGAGTGCTGTAGATGACATGAGAGCAGGTATGGGGTTGATTGTTAGGGAAGTATAACTTAAAAGTTTATAAAGTTTCACATACTTCTCTTTATATTCTATAGGTAAT',\n",
       "       'TGGCAACTGTTTTATAGTCACATCATCGAAGTCCAAAGGAAAATGTTTTCAGCATTGTGTGAAATATGATTTTCAACCACGTAAGGTAGGTAAAAGTAAATATTTTTATAACTCACTTGTTATGACAGAATTCTTAACTATCCTTTTATGACCTCTGTAG',\n",
       "       'ATACTCAACTCTGCCTGGAATCATCACCAAAAGAGGATGCATCAATTTTTGTGCATTCCCAACATGCTCTAATGCTTCCGGTGGGTGAATCATGGCTTTGTTTTCATGTTCTTGTCAGAATTTAACAATATTTTTATTTTATATATCAAACATTGCTCAT',\n",
       "       'GCAGCGGCGTGGTCAGAGCGAGCTTCGGAGAAGCAGTGGTGGGTTCCATGTGATGGTGGAGTAGGAGGCAGGTCTCCGCGGTAAGTGGCGGGGGCGTGGACCCCACCGGGAACCCTCCCGGCTCCTTCCCTGCCTCTCCCTGTTTTCGTGCTTTCACTTC'],\n",
       "      dtype='<U160')"
      ]
     },
     "execution_count": 37,
     "metadata": {},
     "output_type": "execute_result"
    }
   ],
   "source": [
    "data['inputs']"
   ]
  },
  {
   "cell_type": "code",
   "execution_count": 38,
   "metadata": {},
   "outputs": [],
   "source": [
    "HAL = HALModel()"
   ]
  },
  {
   "cell_type": "code",
   "execution_count": 39,
   "metadata": {},
   "outputs": [
    {
     "data": {
      "text/plain": [
       "array([ 16.58693109,  11.91657679,  13.674915  ,  15.40467572,  12.35613842])"
      ]
     },
     "execution_count": 39,
     "metadata": {},
     "output_type": "execute_result"
    }
   ],
   "source": [
    "HAL.predict_on_batch(next(data_generator))"
   ]
  },
  {
   "cell_type": "code",
   "execution_count": null,
   "metadata": {},
   "outputs": [],
   "source": []
  }
 ],
 "metadata": {
  "anaconda-cloud": {},
  "kernelspec": {
   "display_name": "Python [default]",
   "language": "python",
   "name": "python3"
  },
  "language_info": {
   "codemirror_mode": {
    "name": "ipython",
    "version": 3
   },
   "file_extension": ".py",
   "mimetype": "text/x-python",
   "name": "python",
   "nbconvert_exporter": "python",
   "pygments_lexer": "ipython3",
   "version": "3.5.2"
  }
 },
 "nbformat": 4,
 "nbformat_minor": 2
}

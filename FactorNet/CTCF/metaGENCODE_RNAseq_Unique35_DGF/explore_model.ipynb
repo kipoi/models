{
 "cells": [
  {
   "cell_type": "code",
   "execution_count": 1,
   "metadata": {},
   "outputs": [
    {
     "name": "stderr",
     "output_type": "stream",
     "text": [
      "Using TensorFlow backend.\n",
      "/users/avsec/bin/anaconda3/envs/factornet/lib/python2.7/site-packages/h5py/__init__.py:36: FutureWarning: Conversion of the second argument of issubdtype from `float` to `np.floating` is deprecated. In future, it will be treated as `np.float64 == np.dtype(float).type`.\n",
      "  from ._conv import register_converters as _register_converters\n"
     ]
    }
   ],
   "source": [
    "import keras"
   ]
  },
  {
   "cell_type": "code",
   "execution_count": 2,
   "metadata": {},
   "outputs": [],
   "source": [
    "from keras.models import Model"
   ]
  },
  {
   "cell_type": "code",
   "execution_count": 3,
   "metadata": {},
   "outputs": [
    {
     "name": "stdout",
     "output_type": "stream",
     "text": [
      "bigwig.txt  \u001b[0m\u001b[01;34mdataloader_files\u001b[0m/  feature.txt  \u001b[01;34mmodel_files\u001b[0m/  Untitled.ipynb\n",
      "chip.txt    dataloader.py      meta.txt     \u001b[01;34mother_files\u001b[0m/\n"
     ]
    }
   ],
   "source": [
    "ls"
   ]
  },
  {
   "cell_type": "code",
   "execution_count": 4,
   "metadata": {},
   "outputs": [
    {
     "name": "stdout",
     "output_type": "stream",
     "text": [
      "/srv/scratch/avsec/workspace/FactorNet/kipoi/CTCF/metaGENCODE_RNAseq_Unique35_DGF/model_files\n"
     ]
    }
   ],
   "source": [
    "cd model_files"
   ]
  },
  {
   "cell_type": "code",
   "execution_count": 5,
   "metadata": {},
   "outputs": [
    {
     "name": "stdout",
     "output_type": "stream",
     "text": [
      "best_model.hdf5  model.json\n"
     ]
    }
   ],
   "source": [
    "ls"
   ]
  },
  {
   "cell_type": "code",
   "execution_count": 6,
   "metadata": {},
   "outputs": [],
   "source": [
    "import json"
   ]
  },
  {
   "cell_type": "code",
   "execution_count": 13,
   "metadata": {},
   "outputs": [
    {
     "ename": "KeyError",
     "evalue": "'layers'",
     "output_type": "error",
     "traceback": [
      "\u001b[0;31m---------------------------------------------------------------------------\u001b[0m",
      "\u001b[0;31mKeyError\u001b[0m                                  Traceback (most recent call last)",
      "\u001b[0;32m<ipython-input-13-c5767ca7b367>\u001b[0m in \u001b[0;36m<module>\u001b[0;34m()\u001b[0m\n\u001b[0;32m----> 1\u001b[0;31m \u001b[0mModel\u001b[0m\u001b[0;34m.\u001b[0m\u001b[0mfrom_config\u001b[0m\u001b[0;34m(\u001b[0m\u001b[0mjson\u001b[0m\u001b[0;34m.\u001b[0m\u001b[0mload\u001b[0m\u001b[0;34m(\u001b[0m\u001b[0mopen\u001b[0m\u001b[0;34m(\u001b[0m\u001b[0;34m\"model.json\"\u001b[0m\u001b[0;34m)\u001b[0m\u001b[0;34m)\u001b[0m\u001b[0;34m)\u001b[0m\u001b[0;34m\u001b[0m\u001b[0m\n\u001b[0m",
      "\u001b[0;32m/users/avsec/bin/anaconda3/envs/factornet/lib/python2.7/site-packages/keras/engine/topology.pyc\u001b[0m in \u001b[0;36mfrom_config\u001b[0;34m(cls, config, custom_objects)\u001b[0m\n\u001b[1;32m   2579\u001b[0m                         \u001b[0mlayer\u001b[0m\u001b[0;34m(\u001b[0m\u001b[0minput_tensors\u001b[0m\u001b[0;34m)\u001b[0m\u001b[0;34m\u001b[0m\u001b[0m\n\u001b[1;32m   2580\u001b[0m \u001b[0;34m\u001b[0m\u001b[0m\n\u001b[0;32m-> 2581\u001b[0;31m         \u001b[0;32mfor\u001b[0m \u001b[0mlayer_data\u001b[0m \u001b[0;32min\u001b[0m \u001b[0mconfig\u001b[0m\u001b[0;34m[\u001b[0m\u001b[0;34m'layers'\u001b[0m\u001b[0;34m]\u001b[0m\u001b[0;34m:\u001b[0m\u001b[0;34m\u001b[0m\u001b[0m\n\u001b[0m\u001b[1;32m   2582\u001b[0m             \u001b[0mprocess_layer\u001b[0m\u001b[0;34m(\u001b[0m\u001b[0mlayer_data\u001b[0m\u001b[0;34m)\u001b[0m\u001b[0;34m\u001b[0m\u001b[0m\n\u001b[1;32m   2583\u001b[0m \u001b[0;34m\u001b[0m\u001b[0m\n",
      "\u001b[0;31mKeyError\u001b[0m: 'layers'"
     ]
    }
   ],
   "source": [
    "Model.from_config(json.load(open(\"model.json\")))"
   ]
  },
  {
   "cell_type": "code",
   "execution_count": 15,
   "metadata": {},
   "outputs": [],
   "source": [
    "from keras.models import model_from_json"
   ]
  },
  {
   "cell_type": "code",
   "execution_count": 35,
   "metadata": {},
   "outputs": [],
   "source": [
    "def input_layers(model):\n",
    "    \"\"\"Show all the input nodes of the network\"\"\"\n",
    "    return [(l.name, l.input.shape) for l in m.layers if isinstance(l, keras.layers.InputLayer)]"
   ]
  },
  {
   "cell_type": "code",
   "execution_count": 39,
   "metadata": {},
   "outputs": [],
   "source": [
    "m = model_from_json(open(\"model_files/model.json\", \"r\").read())"
   ]
  },
  {
   "cell_type": "code",
   "execution_count": 36,
   "metadata": {},
   "outputs": [
    {
     "data": {
      "text/plain": [
       "[(u'input_1', TensorShape([Dimension(None), Dimension(1002), Dimension(6)])),\n",
       " (u'input_2', TensorShape([Dimension(None), Dimension(1002), Dimension(6)])),\n",
       " (u'input_3', TensorShape([Dimension(None), Dimension(14)]))]"
      ]
     },
     "execution_count": 36,
     "metadata": {},
     "output_type": "execute_result"
    }
   ],
   "source": [
    "# all the input layers of the network\n",
    "input_layers(m)"
   ]
  },
  {
   "cell_type": "markdown",
   "metadata": {},
   "source": [
    "First two are from the sequence + two more dimensions:\n",
    "- Unique35 score\n",
    "- DNA accessibility mapping"
   ]
  },
  {
   "cell_type": "code",
   "execution_count": 40,
   "metadata": {},
   "outputs": [
    {
     "name": "stdout",
     "output_type": "stream",
     "text": [
      "bigwig\n",
      "meta\n",
      "gencode\n"
     ]
    }
   ],
   "source": [
    "# list all the features of the model\n",
    "!cat feature.txt"
   ]
  },
  {
   "cell_type": "code",
   "execution_count": 46,
   "metadata": {},
   "outputs": [
    {
     "name": "stdout",
     "output_type": "stream",
     "text": [
      "Unique35\n",
      "DGF\n"
     ]
    }
   ],
   "source": [
    "# get all the bigwig tracks\n",
    "!cat bigwig.txt"
   ]
  },
  {
   "cell_type": "code",
   "execution_count": 47,
   "metadata": {},
   "outputs": [
    {
     "name": "stdout",
     "output_type": "stream",
     "text": [
      "GEPC1\n",
      "GEPC2\n",
      "GEPC3\n",
      "GEPC4\n",
      "GEPC5\n",
      "GEPC6\n",
      "GEPC7\n",
      "GEPC8\n"
     ]
    }
   ],
   "source": [
    "# list all the PC components used\n",
    "!cat meta.txt"
   ]
  },
  {
   "cell_type": "code",
   "execution_count": 48,
   "metadata": {},
   "outputs": [
    {
     "name": "stdout",
     "output_type": "stream",
     "text": [
      "8 meta.txt\n"
     ]
    }
   ],
   "source": [
    "# number of features\n",
    "!wc -l meta.txt"
   ]
  },
  {
   "cell_type": "code",
   "execution_count": null,
   "metadata": {},
   "outputs": [],
   "source": [
    "# -> the input is fixed "
   ]
  },
  {
   "cell_type": "code",
   "execution_count": 55,
   "metadata": {},
   "outputs": [
    {
     "name": "stdout",
     "output_type": "stream",
     "text": [
      "bigwig.txt  meta.txt  PC-3.1x.bw  \u001b[0m\u001b[01;36mwgEncodeDukeMapabilityUniqueness35bp.bigWig\u001b[0m@\n"
     ]
    }
   ],
   "source": [
    "ls ../../../data/PC-3/"
   ]
  },
  {
   "cell_type": "code",
   "execution_count": 56,
   "metadata": {},
   "outputs": [
    {
     "name": "stdout",
     "output_type": "stream",
     "text": [
      "wgEncodeDukeMapabilityUniqueness35bp.bigWig\tUnique35\n",
      "PC-3.1x.bw\tDGF\n"
     ]
    }
   ],
   "source": [
    "cat ../../../data/PC-3/bigwig.txt"
   ]
  },
  {
   "cell_type": "code",
   "execution_count": 57,
   "metadata": {},
   "outputs": [
    {
     "name": "stdout",
     "output_type": "stream",
     "text": [
      "bigwig.txt  meta.txt  PC-3.1x.bw  \u001b[0m\u001b[01;36mwgEncodeDukeMapabilityUniqueness35bp.bigWig\u001b[0m@\n"
     ]
    }
   ],
   "source": [
    "ls ../../../data/PC-3/"
   ]
  },
  {
   "cell_type": "code",
   "execution_count": 58,
   "metadata": {},
   "outputs": [
    {
     "name": "stdout",
     "output_type": "stream",
     "text": [
      "wgEncodeDukeMapabilityUniqueness35bp.bigWig\tUnique35\n",
      "PC-3.1x.bw\tDGF\n"
     ]
    }
   ],
   "source": [
    "cat ../../../data/PC-3/bigwig.txt"
   ]
  },
  {
   "cell_type": "code",
   "execution_count": 59,
   "metadata": {},
   "outputs": [],
   "source": [
    "# all the features for the additional things\n",
    "# np.array([cpg.count, cds.count, intron.count, promoter.count, utr5.count, utr3.count], dtype=bool)"
   ]
  },
  {
   "cell_type": "code",
   "execution_count": 61,
   "metadata": {},
   "outputs": [],
   "source": [
    "# gencode feature names\n",
    "gencode_features = ['cpg', 'cds', 'intron', 'promoter', 'utr5', 'utr3']"
   ]
  },
  {
   "cell_type": "markdown",
   "metadata": {},
   "source": [
    "## Plan how to write a dataloader\n",
    "\n",
    "- write the bigwig part\n",
    "  - args:\n",
    "    - `interval_file` - standard bed file\n",
    "    - `fasta_file` - reference genome\n",
    "    - `dnase_file` - DNase bigwig\n",
    "    - `cell_type` (default=None) - cell type as a string.\n",
    "    - `RNAseq_PC_file` (default=None) - file path to a RNAseq PC file computed by https://github.com/davidaknowles/tf_net/blob/master/gene_expression_pca.R. See https://github.com/uci-cbcl/FactorNet/blob/master/data/README.md.\n",
    "    - `mappability_file` (None)- USCS mappability track - http://hgdownload.cse.ucsc.edu/goldenpath/hg19/encodeDCC/wgEncodeMapability/wgEncodeDukeMapabilityUniqueness35bp.bigWig\n",
    "      - by deafult, provide this file with the dataloader, download in background\n",
    "    - `GENCODE_files` (default=None)\n",
    "      - path to the already pre-processed gencode files directory to compute the gencode features\n",
    "  - if each of those is none, exclude them from the analysis\n",
    "- after you have this, write 4 different dataloaders and re-use them accross models\n",
    "  - seq + dnase\n",
    "  - seq + dnase + gencode\n",
    "  - seq + dnase + PC\n",
    "  - seq + dnase + gencode + PC"
   ]
  },
  {
   "cell_type": "markdown",
   "metadata": {},
   "source": [
    "## TODO\n",
    "\n",
    "- [ ] have the function get_file as in Keras\n",
    "  - for now just use Keras\n",
    "- [x] write the big-wig part of the dataloader\n",
    "  - [x] write a small test set with the existing data\n",
    "\n",
    "- [ ] setup 4 different dataloaders\n",
    "  - [ ] maybe use jinja-templating to avoid sharing?\n",
    "- setup a shared folder holding the shared files"
   ]
  },
  {
   "cell_type": "markdown",
   "metadata": {},
   "source": [
    "## Generate example bigWig"
   ]
  },
  {
   "cell_type": "code",
   "execution_count": 1,
   "metadata": {},
   "outputs": [],
   "source": [
    "import pyBigWig"
   ]
  },
  {
   "cell_type": "code",
   "execution_count": 2,
   "metadata": {},
   "outputs": [],
   "source": [
    "mbw_fname = '../../../resources/wgEncodeDukeMapabilityUniqueness35bp.bigWig'"
   ]
  },
  {
   "cell_type": "code",
   "execution_count": 3,
   "metadata": {},
   "outputs": [],
   "source": [
    "bw_fname = '../../../data/PC-3/PC-3.1x.bw'"
   ]
  },
  {
   "cell_type": "code",
   "execution_count": 4,
   "metadata": {},
   "outputs": [],
   "source": [
    "bw = pyBigWig.open(bw_fname)"
   ]
  },
  {
   "cell_type": "code",
   "execution_count": 5,
   "metadata": {},
   "outputs": [],
   "source": [
    "mbw = pyBigWig.open(mbw_fname)"
   ]
  },
  {
   "cell_type": "code",
   "execution_count": 6,
   "metadata": {},
   "outputs": [
    {
     "data": {
      "text/plain": [
       "{'chr1': 249250621L,\n",
       " 'chr10': 135534747L,\n",
       " 'chr11': 135006516L,\n",
       " 'chr12': 133851895L,\n",
       " 'chr13': 115169878L,\n",
       " 'chr14': 107349540L,\n",
       " 'chr15': 102531392L,\n",
       " 'chr16': 90354753L,\n",
       " 'chr17': 81195210L,\n",
       " 'chr18': 78077248L,\n",
       " 'chr19': 59128983L,\n",
       " 'chr2': 243199373L,\n",
       " 'chr20': 63025520L,\n",
       " 'chr21': 48129895L,\n",
       " 'chr22': 51304566L,\n",
       " 'chr3': 198022430L,\n",
       " 'chr4': 191154276L,\n",
       " 'chr5': 180915260L,\n",
       " 'chr6': 171115067L,\n",
       " 'chr7': 159138663L,\n",
       " 'chr8': 146364022L,\n",
       " 'chr9': 141213431L,\n",
       " 'chrM': 16571L,\n",
       " 'chrX': 155270560L,\n",
       " 'chrY': 59373566L}"
      ]
     },
     "execution_count": 6,
     "metadata": {},
     "output_type": "execute_result"
    }
   ],
   "source": [
    "bw.chroms()"
   ]
  },
  {
   "cell_type": "code",
   "execution_count": 8,
   "metadata": {},
   "outputs": [],
   "source": [
    "#bw.values(\"chr1\", 10000, 20000)"
   ]
  },
  {
   "cell_type": "code",
   "execution_count": 9,
   "metadata": {},
   "outputs": [],
   "source": [
    "#mbw.values(\"chr1\", 10000, 20000)"
   ]
  },
  {
   "cell_type": "code",
   "execution_count": null,
   "metadata": {},
   "outputs": [],
   "source": [
    "# create an example bigwig file"
   ]
  },
  {
   "cell_type": "code",
   "execution_count": 10,
   "metadata": {},
   "outputs": [
    {
     "name": "stdout",
     "output_type": "stream",
     "text": [
      "bigwig.txt         dataloader.pyc       feature.txt   \u001b[0m\u001b[01;34mother_files\u001b[0m/\n",
      "chip.txt           dataloader.yaml      \u001b[01;34mmodel_files\u001b[0m/  tasks.txt\n",
      "\u001b[01;34mdataloader_files\u001b[0m/  \u001b[01;34mexample_files\u001b[0m/       model.yaml\n",
      "dataloader.py      explore_model.ipynb  new.bw\n"
     ]
    }
   ],
   "source": [
    "ls"
   ]
  },
  {
   "cell_type": "code",
   "execution_count": 11,
   "metadata": {},
   "outputs": [],
   "source": [
    "import pyBigWig"
   ]
  },
  {
   "cell_type": "code",
   "execution_count": 12,
   "metadata": {},
   "outputs": [
    {
     "name": "stdout",
     "output_type": "stream",
     "text": [
      "/srv/scratch/avsec/workspace/FactorNet/kipoi\n"
     ]
    }
   ],
   "source": [
    "cd ../../"
   ]
  },
  {
   "cell_type": "code",
   "execution_count": 13,
   "metadata": {},
   "outputs": [],
   "source": [
    "nbw = pyBigWig.open(\"template/example_files/dnase_synth.chr22.bw\", \"w\")"
   ]
  },
  {
   "cell_type": "code",
   "execution_count": 16,
   "metadata": {},
   "outputs": [],
   "source": [
    "import six"
   ]
  },
  {
   "cell_type": "code",
   "execution_count": 17,
   "metadata": {},
   "outputs": [],
   "source": [
    "nbw.addHeader([(k,v) for k,v in six.iteritems(bw.chroms())])"
   ]
  },
  {
   "cell_type": "code",
   "execution_count": 21,
   "metadata": {},
   "outputs": [],
   "source": [
    "nbw.addEntries(\"chr22\", [1100], values=[.5], span=10000)"
   ]
  },
  {
   "cell_type": "code",
   "execution_count": null,
   "metadata": {},
   "outputs": [],
   "source": []
  },
  {
   "cell_type": "code",
   "execution_count": 22,
   "metadata": {},
   "outputs": [],
   "source": [
    "nbw.close()"
   ]
  },
  {
   "cell_type": "code",
   "execution_count": 23,
   "metadata": {},
   "outputs": [
    {
     "name": "stdout",
     "output_type": "stream",
     "text": [
      "4.0K\ttemplate/example_files/dnase_synth.chr22.bw\n",
      "49M\ttemplate/example_files/hg38_chr22.fa\n",
      "4.0K\ttemplate/example_files/intervals.bed\n"
     ]
    }
   ],
   "source": [
    "!du -sh template/example_files/*"
   ]
  },
  {
   "cell_type": "code",
   "execution_count": 3,
   "metadata": {},
   "outputs": [
    {
     "name": "stdout",
     "output_type": "stream",
     "text": [
      "bigwig.txt         dataloader.pyc       feature.txt   \u001b[0m\u001b[01;34mother_files\u001b[0m/\n",
      "chip.txt           dataloader.yaml      \u001b[01;34mmodel_files\u001b[0m/  tasks.txt\n",
      "\u001b[01;34mdataloader_files\u001b[0m/  \u001b[01;34mexample_files\u001b[0m/       model.yaml\n",
      "dataloader.py      explore_model.ipynb  new.bw\n"
     ]
    }
   ],
   "source": [
    "ls"
   ]
  }
 ],
 "metadata": {
  "kernelspec": {
   "display_name": "Python [conda env:factornet]",
   "language": "python",
   "name": "conda-env-factornet-py"
  },
  "language_info": {
   "codemirror_mode": {
    "name": "ipython",
    "version": 2
   },
   "file_extension": ".py",
   "mimetype": "text/x-python",
   "name": "python",
   "nbconvert_exporter": "python",
   "pygments_lexer": "ipython2",
   "version": "2.7.14"
  }
 },
 "nbformat": 4,
 "nbformat_minor": 2
}

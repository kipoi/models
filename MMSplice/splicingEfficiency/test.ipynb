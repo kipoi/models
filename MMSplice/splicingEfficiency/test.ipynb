{
 "cells": [
  {
   "cell_type": "code",
   "execution_count": 1,
   "metadata": {},
   "outputs": [],
   "source": [
    "%load_ext autoreload\n",
    "%autoreload 2"
   ]
  },
  {
   "cell_type": "code",
   "execution_count": 2,
   "metadata": {},
   "outputs": [
    {
     "name": "stderr",
     "output_type": "stream",
     "text": [
      "Using TensorFlow backend.\n",
      "/opt/modules/i12g/anaconda/3-5.0.1/envs/splicing/lib/python3.6/site-packages/keras/engine/saving.py:270: UserWarning: No training configuration found in save file: the model was *not* compiled. Compile it manually.\n",
      "  warnings.warn('No training configuration found in save file: '\n"
     ]
    }
   ],
   "source": [
    "from dataloader import SplicingVCFDataloader"
   ]
  },
  {
   "cell_type": "code",
   "execution_count": 3,
   "metadata": {},
   "outputs": [],
   "source": [
    "fasta = \"example_files/hg19.nochr.chr17.fa\"\n",
    "gtf = \"example_files/test.gtf\"\n",
    "vcf = \"example_files/test.vcf.gz\""
   ]
  },
  {
   "cell_type": "code",
   "execution_count": 4,
   "metadata": {},
   "outputs": [],
   "source": [
    "dl = SplicingVCFDataloader(gtf, \n",
    "                          fasta,\n",
    "                          vcf,\n",
    "#                           out_file=\"/tmp/test.pkl\",\n",
    "                           overhang=(100,100),\n",
    "                          split_seq=False)"
   ]
  },
  {
   "cell_type": "code",
   "execution_count": 5,
   "metadata": {},
   "outputs": [],
   "source": [
    "dliter = dl.batch_iter()"
   ]
  },
  {
   "cell_type": "code",
   "execution_count": 6,
   "metadata": {},
   "outputs": [
    {
     "name": "stderr",
     "output_type": "stream",
     "text": [
      "/opt/modules/i12g/anaconda/3-5.0.1/envs/splicing/lib/python3.6/site-packages/mmsplice-0.2.3-py3.6.egg/mmsplice/mmsplice.py:159: UserWarning: None GT donor\n",
      "  warnings.warn(\"None GT donor\", UserWarning)\n"
     ]
    }
   ],
   "source": [
    "test = next(dliter)"
   ]
  },
  {
   "cell_type": "code",
   "execution_count": 7,
   "metadata": {},
   "outputs": [
    {
     "data": {
      "text/plain": [
       "(32, 10)"
      ]
     },
     "execution_count": 7,
     "metadata": {},
     "output_type": "execute_result"
    }
   ],
   "source": [
    "test['inputs'].shape"
   ]
  },
  {
   "cell_type": "code",
   "execution_count": 8,
   "metadata": {},
   "outputs": [],
   "source": [
    "from model import MMSpliceModel"
   ]
  },
  {
   "cell_type": "code",
   "execution_count": 9,
   "metadata": {},
   "outputs": [],
   "source": [
    "model = MMSpliceModel()"
   ]
  },
  {
   "cell_type": "code",
   "execution_count": 10,
   "metadata": {},
   "outputs": [
    {
     "data": {
      "text/plain": [
       "array([-1.08006619e-01, -1.19513881e-01, -1.19504735e-01, -1.28316341e-02,\n",
       "       -3.76630450e-03, -2.40297671e-02, -2.43779477e+00, -2.46883383e+00,\n",
       "       -2.46880091e+00, -2.15492759e+00, -2.04839716e+00, -1.92517929e+00,\n",
       "       -9.20014472e-02, -1.02308778e-01, -1.02297803e-01,  4.29298566e-03,\n",
       "        5.23834981e-02,  1.20931364e-01, -2.17030724e-02, -5.57876872e-02,\n",
       "       -5.57437873e-02,  2.96609622e-01,  4.55580310e-01,  6.82180624e-01,\n",
       "       -1.07150571e-01, -1.12336247e-01, -1.12330760e-01, -5.87088598e-02,\n",
       "       -3.45163560e-02, -3.29837526e-05, -1.64350843e-02, -5.23013034e-02])"
      ]
     },
     "execution_count": 10,
     "metadata": {},
     "output_type": "execute_result"
    }
   ],
   "source": [
    "model.predict_on_batch(test['inputs'])"
   ]
  },
  {
   "cell_type": "code",
   "execution_count": null,
   "metadata": {},
   "outputs": [],
   "source": []
  }
 ],
 "metadata": {
  "kernelspec": {
   "display_name": "Python [conda env:splicing]",
   "language": "python",
   "name": "conda-env-splicing-py"
  },
  "language_info": {
   "codemirror_mode": {
    "name": "ipython",
    "version": 3
   },
   "file_extension": ".py",
   "mimetype": "text/x-python",
   "name": "python",
   "nbconvert_exporter": "python",
   "pygments_lexer": "ipython3",
   "version": "3.6.0"
  }
 },
 "nbformat": 4,
 "nbformat_minor": 2
}
